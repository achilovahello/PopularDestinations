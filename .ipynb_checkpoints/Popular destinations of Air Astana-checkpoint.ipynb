{
 "cells": [
  {
   "cell_type": "code",
   "execution_count": 1,
   "metadata": {},
   "outputs": [],
   "source": [
    "import pandas as pd\n",
    "import numpy as np"
   ]
  },
  {
   "cell_type": "code",
   "execution_count": 2,
   "metadata": {},
   "outputs": [],
   "source": [
    "#import all flights for 2019\n",
    "flights=pd.read_csv(\"Flight_2019_all.csv\")"
   ]
  },
  {
   "cell_type": "code",
   "execution_count": 4,
   "metadata": {},
   "outputs": [
    {
     "data": {
      "text/html": [
       "<div>\n",
       "<style scoped>\n",
       "    .dataframe tbody tr th:only-of-type {\n",
       "        vertical-align: middle;\n",
       "    }\n",
       "\n",
       "    .dataframe tbody tr th {\n",
       "        vertical-align: top;\n",
       "    }\n",
       "\n",
       "    .dataframe thead th {\n",
       "        text-align: right;\n",
       "    }\n",
       "</style>\n",
       "<table border=\"1\" class=\"dataframe\">\n",
       "  <thead>\n",
       "    <tr style=\"text-align: right;\">\n",
       "      <th></th>\n",
       "      <th>AIMS_DAY</th>\n",
       "      <th>Flight_date</th>\n",
       "      <th>Flight_number</th>\n",
       "      <th>FLIGHT_POSTFIX</th>\n",
       "      <th>fltype1</th>\n",
       "      <th>FLTYPE</th>\n",
       "      <th>Flight_Status</th>\n",
       "      <th>cancelled</th>\n",
       "      <th>DOMESTIC</th>\n",
       "      <th>Departure_Station_Code</th>\n",
       "      <th>...</th>\n",
       "      <th>STA</th>\n",
       "      <th>actual_arrival_time</th>\n",
       "      <th>ATA</th>\n",
       "      <th>TOUCHDOWN_TIME</th>\n",
       "      <th>TDn</th>\n",
       "      <th>estimated_arrival_time</th>\n",
       "      <th>ETA</th>\n",
       "      <th>Freight_V</th>\n",
       "      <th>REG</th>\n",
       "      <th>Aircraft_Type_Iata</th>\n",
       "    </tr>\n",
       "  </thead>\n",
       "  <tbody>\n",
       "    <tr>\n",
       "      <th>0</th>\n",
       "      <td>14245</td>\n",
       "      <td>00:00.0</td>\n",
       "      <td>864</td>\n",
       "      <td></td>\n",
       "      <td>1</td>\n",
       "      <td>J</td>\n",
       "      <td>NaN</td>\n",
       "      <td>0</td>\n",
       "      <td>1</td>\n",
       "      <td>AKX</td>\n",
       "      <td>...</td>\n",
       "      <td>675</td>\n",
       "      <td>51:00.0</td>\n",
       "      <td>651</td>\n",
       "      <td>47:00.0</td>\n",
       "      <td>647</td>\n",
       "      <td>00:00.0</td>\n",
       "      <td>660</td>\n",
       "      <td>0</td>\n",
       "      <td>P4-KBC</td>\n",
       "      <td>320</td>\n",
       "    </tr>\n",
       "    <tr>\n",
       "      <th>1</th>\n",
       "      <td>14245</td>\n",
       "      <td>00:00.0</td>\n",
       "      <td>978</td>\n",
       "      <td></td>\n",
       "      <td>1</td>\n",
       "      <td>J</td>\n",
       "      <td>NaN</td>\n",
       "      <td>0</td>\n",
       "      <td>1</td>\n",
       "      <td>AKX</td>\n",
       "      <td>...</td>\n",
       "      <td>795</td>\n",
       "      <td>01:00.0</td>\n",
       "      <td>781</td>\n",
       "      <td>58:00.0</td>\n",
       "      <td>778</td>\n",
       "      <td>59:00.0</td>\n",
       "      <td>779</td>\n",
       "      <td>0</td>\n",
       "      <td>P4-KCF</td>\n",
       "      <td>E90</td>\n",
       "    </tr>\n",
       "    <tr>\n",
       "      <th>2</th>\n",
       "      <td>14245</td>\n",
       "      <td>00:00.0</td>\n",
       "      <td>109</td>\n",
       "      <td></td>\n",
       "      <td>1</td>\n",
       "      <td>J</td>\n",
       "      <td>NaN</td>\n",
       "      <td>0</td>\n",
       "      <td>0</td>\n",
       "      <td>ALA</td>\n",
       "      <td>...</td>\n",
       "      <td>795</td>\n",
       "      <td>06:00.0</td>\n",
       "      <td>786</td>\n",
       "      <td>00:00.0</td>\n",
       "      <td>780</td>\n",
       "      <td>16:00.0</td>\n",
       "      <td>796</td>\n",
       "      <td>0</td>\n",
       "      <td>P4-KDC</td>\n",
       "      <td>321</td>\n",
       "    </tr>\n",
       "    <tr>\n",
       "      <th>3</th>\n",
       "      <td>14245</td>\n",
       "      <td>00:00.0</td>\n",
       "      <td>127</td>\n",
       "      <td></td>\n",
       "      <td>1</td>\n",
       "      <td>J</td>\n",
       "      <td>NaN</td>\n",
       "      <td>0</td>\n",
       "      <td>0</td>\n",
       "      <td>ALA</td>\n",
       "      <td>...</td>\n",
       "      <td>470</td>\n",
       "      <td>38:00.0</td>\n",
       "      <td>458</td>\n",
       "      <td>32:00.0</td>\n",
       "      <td>452</td>\n",
       "      <td>41:00.0</td>\n",
       "      <td>461</td>\n",
       "      <td>2698</td>\n",
       "      <td>P4-KBF</td>\n",
       "      <td>320</td>\n",
       "    </tr>\n",
       "    <tr>\n",
       "      <th>4</th>\n",
       "      <td>14245</td>\n",
       "      <td>00:00.0</td>\n",
       "      <td>153</td>\n",
       "      <td></td>\n",
       "      <td>1</td>\n",
       "      <td>J</td>\n",
       "      <td>DV</td>\n",
       "      <td>0</td>\n",
       "      <td>0</td>\n",
       "      <td>ALA</td>\n",
       "      <td>...</td>\n",
       "      <td>520</td>\n",
       "      <td>32:00.0</td>\n",
       "      <td>512</td>\n",
       "      <td>27:00.0</td>\n",
       "      <td>507</td>\n",
       "      <td>42:00.0</td>\n",
       "      <td>522</td>\n",
       "      <td>0</td>\n",
       "      <td>P4-KBE</td>\n",
       "      <td>320</td>\n",
       "    </tr>\n",
       "  </tbody>\n",
       "</table>\n",
       "<p>5 rows × 33 columns</p>\n",
       "</div>"
      ],
      "text/plain": [
       "   AIMS_DAY Flight_date  Flight_number FLIGHT_POSTFIX  fltype1 FLTYPE  \\\n",
       "0     14245     00:00.0            864                       1      J   \n",
       "1     14245     00:00.0            978                       1      J   \n",
       "2     14245     00:00.0            109                       1      J   \n",
       "3     14245     00:00.0            127                       1      J   \n",
       "4     14245     00:00.0            153                       1      J   \n",
       "\n",
       "  Flight_Status  cancelled  DOMESTIC Departure_Station_Code  ...  STA  \\\n",
       "0           NaN          0         1                   AKX   ...  675   \n",
       "1           NaN          0         1                   AKX   ...  795   \n",
       "2           NaN          0         0                   ALA   ...  795   \n",
       "3           NaN          0         0                   ALA   ...  470   \n",
       "4            DV          0         0                   ALA   ...  520   \n",
       "\n",
       "  actual_arrival_time  ATA TOUCHDOWN_TIME  TDn  estimated_arrival_time  ETA  \\\n",
       "0             51:00.0  651        47:00.0  647                 00:00.0  660   \n",
       "1             01:00.0  781        58:00.0  778                 59:00.0  779   \n",
       "2             06:00.0  786        00:00.0  780                 16:00.0  796   \n",
       "3             38:00.0  458        32:00.0  452                 41:00.0  461   \n",
       "4             32:00.0  512        27:00.0  507                 42:00.0  522   \n",
       "\n",
       "   Freight_V           REG  Aircraft_Type_Iata  \n",
       "0          0  P4-KBC                       320  \n",
       "1          0  P4-KCF                      E90   \n",
       "2          0  P4-KDC                       321  \n",
       "3       2698  P4-KBF                       320  \n",
       "4          0  P4-KBE                       320  \n",
       "\n",
       "[5 rows x 33 columns]"
      ]
     },
     "execution_count": 4,
     "metadata": {},
     "output_type": "execute_result"
    }
   ],
   "source": [
    "flights.head()"
   ]
  },
  {
   "cell_type": "code",
   "execution_count": 5,
   "metadata": {},
   "outputs": [],
   "source": [
    "#modify all columns to lower case and remove bottom cases in names of columns\n",
    "flights=flights.rename(columns=lambda x:x.replace('_', '').lower())"
   ]
  },
  {
   "cell_type": "code",
   "execution_count": 14,
   "metadata": {},
   "outputs": [
    {
     "data": {
      "text/html": [
       "<div>\n",
       "<style scoped>\n",
       "    .dataframe tbody tr th:only-of-type {\n",
       "        vertical-align: middle;\n",
       "    }\n",
       "\n",
       "    .dataframe tbody tr th {\n",
       "        vertical-align: top;\n",
       "    }\n",
       "\n",
       "    .dataframe thead th {\n",
       "        text-align: right;\n",
       "    }\n",
       "</style>\n",
       "<table border=\"1\" class=\"dataframe\">\n",
       "  <thead>\n",
       "    <tr style=\"text-align: right;\">\n",
       "      <th></th>\n",
       "      <th>aimsday</th>\n",
       "      <th>flightdate</th>\n",
       "      <th>flightnumber</th>\n",
       "      <th>flightpostfix</th>\n",
       "      <th>fltype1</th>\n",
       "      <th>fltype</th>\n",
       "      <th>flightstatus</th>\n",
       "      <th>cancelled</th>\n",
       "      <th>domestic</th>\n",
       "      <th>departurestationcode</th>\n",
       "      <th>...</th>\n",
       "      <th>sta</th>\n",
       "      <th>actualarrivaltime</th>\n",
       "      <th>ata</th>\n",
       "      <th>touchdowntime</th>\n",
       "      <th>tdn</th>\n",
       "      <th>estimatedarrivaltime</th>\n",
       "      <th>eta</th>\n",
       "      <th>freightv</th>\n",
       "      <th>reg</th>\n",
       "      <th>aircrafttypeiata</th>\n",
       "    </tr>\n",
       "  </thead>\n",
       "  <tbody>\n",
       "    <tr>\n",
       "      <th>0</th>\n",
       "      <td>14245</td>\n",
       "      <td>00:00.0</td>\n",
       "      <td>864</td>\n",
       "      <td></td>\n",
       "      <td>1</td>\n",
       "      <td>J</td>\n",
       "      <td>NaN</td>\n",
       "      <td>0</td>\n",
       "      <td>1</td>\n",
       "      <td>AKX</td>\n",
       "      <td>...</td>\n",
       "      <td>675</td>\n",
       "      <td>51:00.0</td>\n",
       "      <td>651</td>\n",
       "      <td>47:00.0</td>\n",
       "      <td>647</td>\n",
       "      <td>00:00.0</td>\n",
       "      <td>660</td>\n",
       "      <td>0</td>\n",
       "      <td>P4-KBC</td>\n",
       "      <td>320</td>\n",
       "    </tr>\n",
       "    <tr>\n",
       "      <th>1</th>\n",
       "      <td>14245</td>\n",
       "      <td>00:00.0</td>\n",
       "      <td>978</td>\n",
       "      <td></td>\n",
       "      <td>1</td>\n",
       "      <td>J</td>\n",
       "      <td>NaN</td>\n",
       "      <td>0</td>\n",
       "      <td>1</td>\n",
       "      <td>AKX</td>\n",
       "      <td>...</td>\n",
       "      <td>795</td>\n",
       "      <td>01:00.0</td>\n",
       "      <td>781</td>\n",
       "      <td>58:00.0</td>\n",
       "      <td>778</td>\n",
       "      <td>59:00.0</td>\n",
       "      <td>779</td>\n",
       "      <td>0</td>\n",
       "      <td>P4-KCF</td>\n",
       "      <td>E90</td>\n",
       "    </tr>\n",
       "    <tr>\n",
       "      <th>2</th>\n",
       "      <td>14245</td>\n",
       "      <td>00:00.0</td>\n",
       "      <td>109</td>\n",
       "      <td></td>\n",
       "      <td>1</td>\n",
       "      <td>J</td>\n",
       "      <td>NaN</td>\n",
       "      <td>0</td>\n",
       "      <td>0</td>\n",
       "      <td>ALA</td>\n",
       "      <td>...</td>\n",
       "      <td>795</td>\n",
       "      <td>06:00.0</td>\n",
       "      <td>786</td>\n",
       "      <td>00:00.0</td>\n",
       "      <td>780</td>\n",
       "      <td>16:00.0</td>\n",
       "      <td>796</td>\n",
       "      <td>0</td>\n",
       "      <td>P4-KDC</td>\n",
       "      <td>321</td>\n",
       "    </tr>\n",
       "    <tr>\n",
       "      <th>3</th>\n",
       "      <td>14245</td>\n",
       "      <td>00:00.0</td>\n",
       "      <td>127</td>\n",
       "      <td></td>\n",
       "      <td>1</td>\n",
       "      <td>J</td>\n",
       "      <td>NaN</td>\n",
       "      <td>0</td>\n",
       "      <td>0</td>\n",
       "      <td>ALA</td>\n",
       "      <td>...</td>\n",
       "      <td>470</td>\n",
       "      <td>38:00.0</td>\n",
       "      <td>458</td>\n",
       "      <td>32:00.0</td>\n",
       "      <td>452</td>\n",
       "      <td>41:00.0</td>\n",
       "      <td>461</td>\n",
       "      <td>2698</td>\n",
       "      <td>P4-KBF</td>\n",
       "      <td>320</td>\n",
       "    </tr>\n",
       "    <tr>\n",
       "      <th>4</th>\n",
       "      <td>14245</td>\n",
       "      <td>00:00.0</td>\n",
       "      <td>153</td>\n",
       "      <td></td>\n",
       "      <td>1</td>\n",
       "      <td>J</td>\n",
       "      <td>DV</td>\n",
       "      <td>0</td>\n",
       "      <td>0</td>\n",
       "      <td>ALA</td>\n",
       "      <td>...</td>\n",
       "      <td>520</td>\n",
       "      <td>32:00.0</td>\n",
       "      <td>512</td>\n",
       "      <td>27:00.0</td>\n",
       "      <td>507</td>\n",
       "      <td>42:00.0</td>\n",
       "      <td>522</td>\n",
       "      <td>0</td>\n",
       "      <td>P4-KBE</td>\n",
       "      <td>320</td>\n",
       "    </tr>\n",
       "  </tbody>\n",
       "</table>\n",
       "<p>5 rows × 33 columns</p>\n",
       "</div>"
      ],
      "text/plain": [
       "   aimsday flightdate  flightnumber flightpostfix  fltype1 fltype  \\\n",
       "0    14245    00:00.0           864                      1      J   \n",
       "1    14245    00:00.0           978                      1      J   \n",
       "2    14245    00:00.0           109                      1      J   \n",
       "3    14245    00:00.0           127                      1      J   \n",
       "4    14245    00:00.0           153                      1      J   \n",
       "\n",
       "  flightstatus  cancelled  domestic departurestationcode  ...  sta  \\\n",
       "0          NaN          0         1                 AKX   ...  675   \n",
       "1          NaN          0         1                 AKX   ...  795   \n",
       "2          NaN          0         0                 ALA   ...  795   \n",
       "3          NaN          0         0                 ALA   ...  470   \n",
       "4           DV          0         0                 ALA   ...  520   \n",
       "\n",
       "  actualarrivaltime  ata touchdowntime  tdn  estimatedarrivaltime  eta  \\\n",
       "0           51:00.0  651       47:00.0  647               00:00.0  660   \n",
       "1           01:00.0  781       58:00.0  778               59:00.0  779   \n",
       "2           06:00.0  786       00:00.0  780               16:00.0  796   \n",
       "3           38:00.0  458       32:00.0  452               41:00.0  461   \n",
       "4           32:00.0  512       27:00.0  507               42:00.0  522   \n",
       "\n",
       "   freightv           reg  aircrafttypeiata  \n",
       "0         0  P4-KBC                     320  \n",
       "1         0  P4-KCF                    E90   \n",
       "2         0  P4-KDC                     321  \n",
       "3      2698  P4-KBF                     320  \n",
       "4         0  P4-KBE                     320  \n",
       "\n",
       "[5 rows x 33 columns]"
      ]
     },
     "execution_count": 14,
     "metadata": {},
     "output_type": "execute_result"
    }
   ],
   "source": [
    "#after adjusting columns\n",
    "flights.head()"
   ]
  },
  {
   "cell_type": "code",
   "execution_count": 15,
   "metadata": {},
   "outputs": [],
   "source": [
    "# to get airport names and country names\n",
    "airports=pd.read_csv(\"Airports.csv\")"
   ]
  },
  {
   "cell_type": "code",
   "execution_count": 16,
   "metadata": {},
   "outputs": [
    {
     "data": {
      "text/html": [
       "<div>\n",
       "<style scoped>\n",
       "    .dataframe tbody tr th:only-of-type {\n",
       "        vertical-align: middle;\n",
       "    }\n",
       "\n",
       "    .dataframe tbody tr th {\n",
       "        vertical-align: top;\n",
       "    }\n",
       "\n",
       "    .dataframe thead th {\n",
       "        text-align: right;\n",
       "    }\n",
       "</style>\n",
       "<table border=\"1\" class=\"dataframe\">\n",
       "  <thead>\n",
       "    <tr style=\"text-align: right;\">\n",
       "      <th></th>\n",
       "      <th>AIRPORT</th>\n",
       "      <th>ICAO</th>\n",
       "      <th>COUNTRY</th>\n",
       "      <th>TERMINAL</th>\n",
       "      <th>PORTNAM</th>\n",
       "      <th>LONGITUD</th>\n",
       "      <th>LATITUDE</th>\n",
       "    </tr>\n",
       "  </thead>\n",
       "  <tbody>\n",
       "    <tr>\n",
       "      <th>0</th>\n",
       "      <td>1XJ</td>\n",
       "      <td>EGDX</td>\n",
       "      <td>EG</td>\n",
       "      <td></td>\n",
       "      <td>ST ATHAN</td>\n",
       "      <td>W003260800</td>\n",
       "      <td>N51241700</td>\n",
       "    </tr>\n",
       "    <tr>\n",
       "      <th>1</th>\n",
       "      <td>AAL</td>\n",
       "      <td>EKYT</td>\n",
       "      <td>EK</td>\n",
       "      <td></td>\n",
       "      <td>AALBORG</td>\n",
       "      <td>E009505699</td>\n",
       "      <td>N57053404</td>\n",
       "    </tr>\n",
       "    <tr>\n",
       "      <th>2</th>\n",
       "      <td>AAN</td>\n",
       "      <td>OMAL</td>\n",
       "      <td>OM</td>\n",
       "      <td></td>\n",
       "      <td>AL AIN INTL</td>\n",
       "      <td>E055363300</td>\n",
       "      <td>N24154200</td>\n",
       "    </tr>\n",
       "    <tr>\n",
       "      <th>3</th>\n",
       "      <td>ABA</td>\n",
       "      <td>UNAA</td>\n",
       "      <td>U</td>\n",
       "      <td></td>\n",
       "      <td>ABAKAN</td>\n",
       "      <td>E091230600</td>\n",
       "      <td>N53443000</td>\n",
       "    </tr>\n",
       "    <tr>\n",
       "      <th>4</th>\n",
       "      <td>ADB</td>\n",
       "      <td>LTBJ</td>\n",
       "      <td>LT</td>\n",
       "      <td></td>\n",
       "      <td>IZMIR,ADNAN MENDERES</td>\n",
       "      <td>E027091800</td>\n",
       "      <td>N38172100</td>\n",
       "    </tr>\n",
       "  </tbody>\n",
       "</table>\n",
       "</div>"
      ],
      "text/plain": [
       "  AIRPORT  ICAO COUNTRY TERMINAL                                   PORTNAM  \\\n",
       "0    1XJ   EGDX      EG           ST ATHAN                                   \n",
       "1    AAL   EKYT      EK           AALBORG                                    \n",
       "2    AAN   OMAL      OM           AL AIN INTL                                \n",
       "3    ABA   UNAA      U            ABAKAN                                     \n",
       "4    ADB   LTBJ      LT           IZMIR,ADNAN MENDERES                       \n",
       "\n",
       "       LONGITUD      LATITUDE  \n",
       "0  W003260800    N51241700     \n",
       "1  E009505699    N57053404     \n",
       "2  E055363300    N24154200     \n",
       "3  E091230600    N53443000     \n",
       "4  E027091800    N38172100     "
      ]
     },
     "execution_count": 16,
     "metadata": {},
     "output_type": "execute_result"
    }
   ],
   "source": [
    "airports.head()"
   ]
  },
  {
   "cell_type": "code",
   "execution_count": 18,
   "metadata": {},
   "outputs": [],
   "source": [
    "#domestic flights \n",
    "domestic=flights[flights.domestic==1]"
   ]
  },
  {
   "cell_type": "code",
   "execution_count": 19,
   "metadata": {},
   "outputs": [
    {
     "data": {
      "text/plain": [
       "array(['AKX ', 'ALA ', 'CIT ', 'GUW ', 'KGF ', 'KZO ', 'PWQ ', 'SCO ',\n",
       "       'TSE ', 'UKK ', 'URA ', 'KSN ', 'DMB ', 'PLX '], dtype=object)"
      ]
     },
     "execution_count": 19,
     "metadata": {},
     "output_type": "execute_result"
    }
   ],
   "source": [
    "#all domestic airports of Air Astana in Kazakhstan\n",
    "domestic.departurestationcode.unique()"
   ]
  },
  {
   "cell_type": "code",
   "execution_count": 20,
   "metadata": {},
   "outputs": [],
   "source": [
    "international=flights[flights.domestic==0]"
   ]
  },
  {
   "cell_type": "code",
   "execution_count": 30,
   "metadata": {},
   "outputs": [
    {
     "data": {
      "text/plain": [
       "array(['ALA ', 'AMS ', 'BKK ', 'DEL ', 'DXB ', 'FRA ', 'FRU ', 'GUW ',\n",
       "       'HKG ', 'ICN ', 'IST ', 'KBP ', 'KUL ', 'LED ', 'LHR ', 'OMS ',\n",
       "       'OVB ', 'PEK ', 'SVO ', 'SVX ', 'TAS ', 'TBS ', 'TSE ', 'URC ',\n",
       "       'DYU ', 'GYD ', 'KZN ', 'URA ', 'CDG ', 'XMN ', 'ESB ', 'MRV ',\n",
       "       'BYJ ', 'MSQ ', 'SCO ', 'JAI ', 'CIT ', 'SJK ', 'REC ', 'DUS ',\n",
       "       'FAO ', 'MCT ', 'EXT ', 'KEF ', 'BGR ', 'ANC ', 'SEN ', 'BLL ',\n",
       "       'BOH ', 'AYT ', 'BJV ', 'SSH ', 'BTS ', 'NWI ', 'TLS ', 'XFW ',\n",
       "       'DME ', 'HEL ', 'BRU ', 'MST ', 'AGP ', 'ZIA ', 'KTT '],\n",
       "      dtype=object)"
      ]
     },
     "execution_count": 30,
     "metadata": {},
     "output_type": "execute_result"
    }
   ],
   "source": [
    "#all international destinations of Air Astana in Kazakhstan\n",
    "international.departurestationcode.unique()"
   ]
  },
  {
   "cell_type": "code",
   "execution_count": 17,
   "metadata": {},
   "outputs": [],
   "source": [
    "#in the system named AIMS, the country code of Kazakhstan is UA\n",
    "qaz=(airports[airports.COUNTRY=='UA'])"
   ]
  },
  {
   "cell_type": "code",
   "execution_count": 24,
   "metadata": {},
   "outputs": [],
   "source": [
    "#to merge with main table Flights we need to change the name of column\n",
    "qaz=qaz.rename(columns={\"AIRPORT\":\"departurestationcode\"})"
   ]
  },
  {
   "cell_type": "code",
   "execution_count": 53,
   "metadata": {},
   "outputs": [],
   "source": [
    "#check all re-routed flight or return from air to departure station\n",
    "rr=international[international.departurestationcode==(international.arrivalstationcode)].head()\n"
   ]
  },
  {
   "cell_type": "code",
   "execution_count": 56,
   "metadata": {},
   "outputs": [
    {
     "data": {
      "text/html": [
       "<div>\n",
       "<style scoped>\n",
       "    .dataframe tbody tr th:only-of-type {\n",
       "        vertical-align: middle;\n",
       "    }\n",
       "\n",
       "    .dataframe tbody tr th {\n",
       "        vertical-align: top;\n",
       "    }\n",
       "\n",
       "    .dataframe thead th {\n",
       "        text-align: right;\n",
       "    }\n",
       "</style>\n",
       "<table border=\"1\" class=\"dataframe\">\n",
       "  <thead>\n",
       "    <tr style=\"text-align: right;\">\n",
       "      <th></th>\n",
       "      <th>flightnumber</th>\n",
       "      <th>departurestationcode</th>\n",
       "      <th>arrivalstationcode</th>\n",
       "    </tr>\n",
       "  </thead>\n",
       "  <tbody>\n",
       "    <tr>\n",
       "      <th>276</th>\n",
       "      <td>918</td>\n",
       "      <td>IST</td>\n",
       "      <td>IST</td>\n",
       "    </tr>\n",
       "    <tr>\n",
       "      <th>397</th>\n",
       "      <td>210</td>\n",
       "      <td>ICN</td>\n",
       "      <td>ICN</td>\n",
       "    </tr>\n",
       "    <tr>\n",
       "      <th>868</th>\n",
       "      <td>208</td>\n",
       "      <td>DXB</td>\n",
       "      <td>DXB</td>\n",
       "    </tr>\n",
       "    <tr>\n",
       "      <th>1096</th>\n",
       "      <td>904</td>\n",
       "      <td>AMS</td>\n",
       "      <td>AMS</td>\n",
       "    </tr>\n",
       "    <tr>\n",
       "      <th>1235</th>\n",
       "      <td>870</td>\n",
       "      <td>IST</td>\n",
       "      <td>IST</td>\n",
       "    </tr>\n",
       "  </tbody>\n",
       "</table>\n",
       "</div>"
      ],
      "text/plain": [
       "      flightnumber departurestationcode arrivalstationcode\n",
       "276            918                 IST                IST \n",
       "397            210                 ICN                ICN \n",
       "868            208                 DXB                DXB \n",
       "1096           904                 AMS                AMS \n",
       "1235           870                 IST                IST "
      ]
     },
     "execution_count": 56,
     "metadata": {},
     "output_type": "execute_result"
    }
   ],
   "source": [
    "rr[['flightnumber', 'departurestationcode', 'arrivalstationcode']]"
   ]
  },
  {
   "cell_type": "code",
   "execution_count": 58,
   "metadata": {},
   "outputs": [],
   "source": [
    "#to check international airport code in the list of airports from file Airports \n",
    "international=international[international.departurestationcode.isin(qaz.departurestationcode)]\n"
   ]
  },
  {
   "cell_type": "code",
   "execution_count": 59,
   "metadata": {},
   "outputs": [],
   "source": [
    "# to define that departure code in the list of Kazakhstan airports, but arrival station code not in list of KZ airports\n",
    "international=international[~international.arrivalstationcode.isin(qaz.departurestationcode)]"
   ]
  },
  {
   "cell_type": "code",
   "execution_count": 60,
   "metadata": {},
   "outputs": [
    {
     "data": {
      "text/plain": [
       "Index(['aimsday', 'flightdate', 'flightnumber', 'flightpostfix', 'fltype1',\n",
       "       'fltype', 'flightstatus', 'cancelled', 'domestic',\n",
       "       'departurestationcode', 'departurestationname', 'arrivalstationcode',\n",
       "       'arrivalstationname', 'scheduleddeparturedate',\n",
       "       'scheduleddeparturetime', 'std', 'actualdeparturetime', 'atd',\n",
       "       'takeofftime', 'tkof', 'estimateddeparturetime', 'etd',\n",
       "       'scheduledarrivaltime', 'sta', 'actualarrivaltime', 'ata',\n",
       "       'touchdowntime', 'tdn', 'estimatedarrivaltime', 'eta', 'freightv',\n",
       "       'reg', 'aircrafttypeiata'],\n",
       "      dtype='object')"
      ]
     },
     "execution_count": 60,
     "metadata": {},
     "output_type": "execute_result"
    }
   ],
   "source": [
    "international.columns"
   ]
  },
  {
   "cell_type": "code",
   "execution_count": 61,
   "metadata": {},
   "outputs": [
    {
     "data": {
      "text/html": [
       "<div>\n",
       "<style scoped>\n",
       "    .dataframe tbody tr th:only-of-type {\n",
       "        vertical-align: middle;\n",
       "    }\n",
       "\n",
       "    .dataframe tbody tr th {\n",
       "        vertical-align: top;\n",
       "    }\n",
       "\n",
       "    .dataframe thead th {\n",
       "        text-align: right;\n",
       "    }\n",
       "</style>\n",
       "<table border=\"1\" class=\"dataframe\">\n",
       "  <thead>\n",
       "    <tr style=\"text-align: right;\">\n",
       "      <th></th>\n",
       "      <th>aimsday</th>\n",
       "      <th>flightdate</th>\n",
       "      <th>flightnumber</th>\n",
       "      <th>flightpostfix</th>\n",
       "      <th>fltype1</th>\n",
       "      <th>fltype</th>\n",
       "      <th>flightstatus</th>\n",
       "      <th>cancelled</th>\n",
       "      <th>domestic</th>\n",
       "      <th>departurestationcode</th>\n",
       "      <th>...</th>\n",
       "      <th>sta</th>\n",
       "      <th>actualarrivaltime</th>\n",
       "      <th>ata</th>\n",
       "      <th>touchdowntime</th>\n",
       "      <th>tdn</th>\n",
       "      <th>estimatedarrivaltime</th>\n",
       "      <th>eta</th>\n",
       "      <th>freightv</th>\n",
       "      <th>reg</th>\n",
       "      <th>aircrafttypeiata</th>\n",
       "    </tr>\n",
       "  </thead>\n",
       "  <tbody>\n",
       "    <tr>\n",
       "      <th>2</th>\n",
       "      <td>14245</td>\n",
       "      <td>00:00.0</td>\n",
       "      <td>109</td>\n",
       "      <td></td>\n",
       "      <td>1</td>\n",
       "      <td>J</td>\n",
       "      <td>NaN</td>\n",
       "      <td>0</td>\n",
       "      <td>0</td>\n",
       "      <td>ALA</td>\n",
       "      <td>...</td>\n",
       "      <td>795</td>\n",
       "      <td>06:00.0</td>\n",
       "      <td>786</td>\n",
       "      <td>00:00.0</td>\n",
       "      <td>780</td>\n",
       "      <td>16:00.0</td>\n",
       "      <td>796</td>\n",
       "      <td>0</td>\n",
       "      <td>P4-KDC</td>\n",
       "      <td>321</td>\n",
       "    </tr>\n",
       "    <tr>\n",
       "      <th>3</th>\n",
       "      <td>14245</td>\n",
       "      <td>00:00.0</td>\n",
       "      <td>127</td>\n",
       "      <td></td>\n",
       "      <td>1</td>\n",
       "      <td>J</td>\n",
       "      <td>NaN</td>\n",
       "      <td>0</td>\n",
       "      <td>0</td>\n",
       "      <td>ALA</td>\n",
       "      <td>...</td>\n",
       "      <td>470</td>\n",
       "      <td>38:00.0</td>\n",
       "      <td>458</td>\n",
       "      <td>32:00.0</td>\n",
       "      <td>452</td>\n",
       "      <td>41:00.0</td>\n",
       "      <td>461</td>\n",
       "      <td>2698</td>\n",
       "      <td>P4-KBF</td>\n",
       "      <td>320</td>\n",
       "    </tr>\n",
       "    <tr>\n",
       "      <th>4</th>\n",
       "      <td>14245</td>\n",
       "      <td>00:00.0</td>\n",
       "      <td>153</td>\n",
       "      <td></td>\n",
       "      <td>1</td>\n",
       "      <td>J</td>\n",
       "      <td>DV</td>\n",
       "      <td>0</td>\n",
       "      <td>0</td>\n",
       "      <td>ALA</td>\n",
       "      <td>...</td>\n",
       "      <td>520</td>\n",
       "      <td>32:00.0</td>\n",
       "      <td>512</td>\n",
       "      <td>27:00.0</td>\n",
       "      <td>507</td>\n",
       "      <td>42:00.0</td>\n",
       "      <td>522</td>\n",
       "      <td>0</td>\n",
       "      <td>P4-KBE</td>\n",
       "      <td>320</td>\n",
       "    </tr>\n",
       "    <tr>\n",
       "      <th>8</th>\n",
       "      <td>14245</td>\n",
       "      <td>00:00.0</td>\n",
       "      <td>401</td>\n",
       "      <td></td>\n",
       "      <td>1</td>\n",
       "      <td>J</td>\n",
       "      <td>NaN</td>\n",
       "      <td>0</td>\n",
       "      <td>0</td>\n",
       "      <td>ALA</td>\n",
       "      <td>...</td>\n",
       "      <td>1120</td>\n",
       "      <td>20:00.0</td>\n",
       "      <td>1100</td>\n",
       "      <td>12:00.0</td>\n",
       "      <td>1092</td>\n",
       "      <td>33:00.0</td>\n",
       "      <td>1113</td>\n",
       "      <td>0</td>\n",
       "      <td>P4-KBC</td>\n",
       "      <td>320</td>\n",
       "    </tr>\n",
       "    <tr>\n",
       "      <th>16</th>\n",
       "      <td>14245</td>\n",
       "      <td>00:00.0</td>\n",
       "      <td>871</td>\n",
       "      <td></td>\n",
       "      <td>1</td>\n",
       "      <td>J</td>\n",
       "      <td>NaN</td>\n",
       "      <td>0</td>\n",
       "      <td>0</td>\n",
       "      <td>ALA</td>\n",
       "      <td>...</td>\n",
       "      <td>325</td>\n",
       "      <td>19:00.0</td>\n",
       "      <td>319</td>\n",
       "      <td>14:00.0</td>\n",
       "      <td>314</td>\n",
       "      <td>18:00.0</td>\n",
       "      <td>318</td>\n",
       "      <td>35</td>\n",
       "      <td>P4-KDC</td>\n",
       "      <td>321</td>\n",
       "    </tr>\n",
       "  </tbody>\n",
       "</table>\n",
       "<p>5 rows × 33 columns</p>\n",
       "</div>"
      ],
      "text/plain": [
       "    aimsday flightdate  flightnumber flightpostfix  fltype1 fltype  \\\n",
       "2     14245    00:00.0           109                      1      J   \n",
       "3     14245    00:00.0           127                      1      J   \n",
       "4     14245    00:00.0           153                      1      J   \n",
       "8     14245    00:00.0           401                      1      J   \n",
       "16    14245    00:00.0           871                      1      J   \n",
       "\n",
       "   flightstatus  cancelled  domestic departurestationcode  ...   sta  \\\n",
       "2           NaN          0         0                 ALA   ...   795   \n",
       "3           NaN          0         0                 ALA   ...   470   \n",
       "4            DV          0         0                 ALA   ...   520   \n",
       "8           NaN          0         0                 ALA   ...  1120   \n",
       "16          NaN          0         0                 ALA   ...   325   \n",
       "\n",
       "   actualarrivaltime   ata touchdowntime   tdn  estimatedarrivaltime   eta  \\\n",
       "2            06:00.0   786       00:00.0   780               16:00.0   796   \n",
       "3            38:00.0   458       32:00.0   452               41:00.0   461   \n",
       "4            32:00.0   512       27:00.0   507               42:00.0   522   \n",
       "8            20:00.0  1100       12:00.0  1092               33:00.0  1113   \n",
       "16           19:00.0   319       14:00.0   314               18:00.0   318   \n",
       "\n",
       "    freightv           reg  aircrafttypeiata  \n",
       "2          0  P4-KDC                     321  \n",
       "3       2698  P4-KBF                     320  \n",
       "4          0  P4-KBE                     320  \n",
       "8          0  P4-KBC                     320  \n",
       "16        35  P4-KDC                     321  \n",
       "\n",
       "[5 rows x 33 columns]"
      ]
     },
     "execution_count": 61,
     "metadata": {},
     "output_type": "execute_result"
    }
   ],
   "source": [
    "international.head()"
   ]
  },
  {
   "cell_type": "code",
   "execution_count": 62,
   "metadata": {},
   "outputs": [
    {
     "data": {
      "text/plain": [
       "array(['FRU ', 'TAS ', 'SVO ', 'KBP ', 'PEK ', 'DXB ', 'DEL ', 'IST ',\n",
       "       'BKK ', 'URC ', 'AMS ', 'TBS ', 'OVB ', 'SVX ', 'OMS ', 'FRA ',\n",
       "       'LHR ', 'GYD ', 'DYU ', 'LED ', 'ICN ', 'KZN ', 'HKG ', 'KUL ',\n",
       "       'CDG ', 'MRV ', 'ESB ', 'XMN ', 'MSQ ', 'JAI ', 'DUS ', 'EXT ',\n",
       "       'MCT ', 'KEF ', 'ANC ', 'AYT ', 'BTS ', 'BJV ', 'SSH ', 'MST ',\n",
       "       'DME ', 'HEL ', 'BRU ', 'ZIA ', 'KTT '], dtype=object)"
      ]
     },
     "execution_count": 62,
     "metadata": {},
     "output_type": "execute_result"
    }
   ],
   "source": [
    "#all international destinations of Air Astana for the 2019 year\n",
    "international.arrivalstationcode.unique()"
   ]
  },
  {
   "cell_type": "code",
   "execution_count": 160,
   "metadata": {},
   "outputs": [
    {
     "data": {
      "text/plain": [
       "array(['J', 'P', 'C'], dtype=object)"
      ]
     },
     "execution_count": 160,
     "metadata": {},
     "output_type": "execute_result"
    }
   ],
   "source": [
    "#The type of Flights from AIMS, C is Charter, P is Positioning/Ferry, J is Scheduled Flights\n",
    "international.fltype.unique()"
   ]
  },
  {
   "cell_type": "code",
   "execution_count": null,
   "metadata": {},
   "outputs": [],
   "source": [
    "['aimsday', 'flightdate', 'flightnumber', 'flightpostfix', 'fltype1',\n",
    "       'fltype', 'flightstatus', 'cancelled', 'domestic',\n",
    "       'departurestationcode', 'departurestationname', 'arrivalstationcode',\n",
    "       'arrivalstationname', 'scheduleddeparturedate',\n",
    "       'scheduleddeparturetime', 'std', 'actualdeparturetime', 'atd',\n",
    "       'takeofftime', 'tkof', 'estimateddeparturetime', 'etd',\n",
    "       'scheduledarrivaltime', 'sta', 'actualarrivaltime', 'ata',\n",
    "       'touchdowntime', 'tdn', 'estimatedarrivaltime', 'eta', 'freightv',\n",
    "       'reg', 'aircrafttypeiata'],\n",
    "      dtype='object')"
   ]
  },
  {
   "cell_type": "code",
   "execution_count": 63,
   "metadata": {},
   "outputs": [],
   "source": [
    "intflights=international[['flightnumber', 'flightdate', 'flightpostfix','flightstatus',\n",
    "               'fltype','departurestationcode', 'arrivalstationcode',]]"
   ]
  },
  {
   "cell_type": "code",
   "execution_count": 64,
   "metadata": {},
   "outputs": [
    {
     "data": {
      "text/html": [
       "<div>\n",
       "<style scoped>\n",
       "    .dataframe tbody tr th:only-of-type {\n",
       "        vertical-align: middle;\n",
       "    }\n",
       "\n",
       "    .dataframe tbody tr th {\n",
       "        vertical-align: top;\n",
       "    }\n",
       "\n",
       "    .dataframe thead th {\n",
       "        text-align: right;\n",
       "    }\n",
       "</style>\n",
       "<table border=\"1\" class=\"dataframe\">\n",
       "  <thead>\n",
       "    <tr style=\"text-align: right;\">\n",
       "      <th></th>\n",
       "      <th>flightnumber</th>\n",
       "      <th>flightdate</th>\n",
       "      <th>flightpostfix</th>\n",
       "      <th>flightstatus</th>\n",
       "      <th>fltype</th>\n",
       "      <th>departurestationcode</th>\n",
       "      <th>arrivalstationcode</th>\n",
       "    </tr>\n",
       "  </thead>\n",
       "  <tbody>\n",
       "    <tr>\n",
       "      <th>2</th>\n",
       "      <td>109</td>\n",
       "      <td>00:00.0</td>\n",
       "      <td></td>\n",
       "      <td>NaN</td>\n",
       "      <td>J</td>\n",
       "      <td>ALA</td>\n",
       "      <td>FRU</td>\n",
       "    </tr>\n",
       "    <tr>\n",
       "      <th>3</th>\n",
       "      <td>127</td>\n",
       "      <td>00:00.0</td>\n",
       "      <td></td>\n",
       "      <td>NaN</td>\n",
       "      <td>J</td>\n",
       "      <td>ALA</td>\n",
       "      <td>TAS</td>\n",
       "    </tr>\n",
       "    <tr>\n",
       "      <th>4</th>\n",
       "      <td>153</td>\n",
       "      <td>00:00.0</td>\n",
       "      <td></td>\n",
       "      <td>DV</td>\n",
       "      <td>J</td>\n",
       "      <td>ALA</td>\n",
       "      <td>SVO</td>\n",
       "    </tr>\n",
       "    <tr>\n",
       "      <th>8</th>\n",
       "      <td>401</td>\n",
       "      <td>00:00.0</td>\n",
       "      <td></td>\n",
       "      <td>NaN</td>\n",
       "      <td>J</td>\n",
       "      <td>ALA</td>\n",
       "      <td>KBP</td>\n",
       "    </tr>\n",
       "    <tr>\n",
       "      <th>16</th>\n",
       "      <td>871</td>\n",
       "      <td>00:00.0</td>\n",
       "      <td></td>\n",
       "      <td>NaN</td>\n",
       "      <td>J</td>\n",
       "      <td>ALA</td>\n",
       "      <td>SVO</td>\n",
       "    </tr>\n",
       "  </tbody>\n",
       "</table>\n",
       "</div>"
      ],
      "text/plain": [
       "    flightnumber flightdate flightpostfix flightstatus fltype  \\\n",
       "2            109    00:00.0                        NaN      J   \n",
       "3            127    00:00.0                        NaN      J   \n",
       "4            153    00:00.0                         DV      J   \n",
       "8            401    00:00.0                        NaN      J   \n",
       "16           871    00:00.0                        NaN      J   \n",
       "\n",
       "   departurestationcode arrivalstationcode  \n",
       "2                  ALA                FRU   \n",
       "3                  ALA                TAS   \n",
       "4                  ALA                SVO   \n",
       "8                  ALA                KBP   \n",
       "16                 ALA                SVO   "
      ]
     },
     "execution_count": 64,
     "metadata": {},
     "output_type": "execute_result"
    }
   ],
   "source": [
    "intflights.head()"
   ]
  },
  {
   "cell_type": "code",
   "execution_count": 66,
   "metadata": {},
   "outputs": [
    {
     "data": {
      "text/plain": [
       "departurestationcode  arrivalstationcode\n",
       "ALA                   SVO                   637\n",
       "                      FRU                   502\n",
       "                      TAS                   483\n",
       "                      IST                   398\n",
       "                      DXB                   377\n",
       "                                           ... \n",
       "TSE                   ESB                     1\n",
       "                      KTT                     1\n",
       "URA                   FRA                    52\n",
       "                      EXT                     2\n",
       "                      MST                     1\n",
       "Name: arrivalstationcode, Length: 72, dtype: int64"
      ]
     },
     "execution_count": 66,
     "metadata": {},
     "output_type": "execute_result"
    }
   ],
   "source": [
    "# the number of flights to international airports from domestic airports\n",
    "intflights.groupby('departurestationcode')['arrivalstationcode'].value_counts()"
   ]
  },
  {
   "cell_type": "code",
   "execution_count": 67,
   "metadata": {},
   "outputs": [],
   "source": [
    "#all international flights from Almaty (ALA)\n",
    "alaintflights=intflights[intflights['departurestationcode'].str.strip()=='ALA']"
   ]
  },
  {
   "cell_type": "code",
   "execution_count": 68,
   "metadata": {},
   "outputs": [
    {
     "data": {
      "text/html": [
       "<div>\n",
       "<style scoped>\n",
       "    .dataframe tbody tr th:only-of-type {\n",
       "        vertical-align: middle;\n",
       "    }\n",
       "\n",
       "    .dataframe tbody tr th {\n",
       "        vertical-align: top;\n",
       "    }\n",
       "\n",
       "    .dataframe thead th {\n",
       "        text-align: right;\n",
       "    }\n",
       "</style>\n",
       "<table border=\"1\" class=\"dataframe\">\n",
       "  <thead>\n",
       "    <tr style=\"text-align: right;\">\n",
       "      <th></th>\n",
       "      <th>flightnumber</th>\n",
       "      <th>flightdate</th>\n",
       "      <th>flightpostfix</th>\n",
       "      <th>flightstatus</th>\n",
       "      <th>fltype</th>\n",
       "      <th>departurestationcode</th>\n",
       "      <th>arrivalstationcode</th>\n",
       "    </tr>\n",
       "  </thead>\n",
       "  <tbody>\n",
       "    <tr>\n",
       "      <th>2</th>\n",
       "      <td>109</td>\n",
       "      <td>00:00.0</td>\n",
       "      <td></td>\n",
       "      <td>NaN</td>\n",
       "      <td>J</td>\n",
       "      <td>ALA</td>\n",
       "      <td>FRU</td>\n",
       "    </tr>\n",
       "    <tr>\n",
       "      <th>3</th>\n",
       "      <td>127</td>\n",
       "      <td>00:00.0</td>\n",
       "      <td></td>\n",
       "      <td>NaN</td>\n",
       "      <td>J</td>\n",
       "      <td>ALA</td>\n",
       "      <td>TAS</td>\n",
       "    </tr>\n",
       "    <tr>\n",
       "      <th>4</th>\n",
       "      <td>153</td>\n",
       "      <td>00:00.0</td>\n",
       "      <td></td>\n",
       "      <td>DV</td>\n",
       "      <td>J</td>\n",
       "      <td>ALA</td>\n",
       "      <td>SVO</td>\n",
       "    </tr>\n",
       "    <tr>\n",
       "      <th>8</th>\n",
       "      <td>401</td>\n",
       "      <td>00:00.0</td>\n",
       "      <td></td>\n",
       "      <td>NaN</td>\n",
       "      <td>J</td>\n",
       "      <td>ALA</td>\n",
       "      <td>KBP</td>\n",
       "    </tr>\n",
       "    <tr>\n",
       "      <th>16</th>\n",
       "      <td>871</td>\n",
       "      <td>00:00.0</td>\n",
       "      <td></td>\n",
       "      <td>NaN</td>\n",
       "      <td>J</td>\n",
       "      <td>ALA</td>\n",
       "      <td>SVO</td>\n",
       "    </tr>\n",
       "  </tbody>\n",
       "</table>\n",
       "</div>"
      ],
      "text/plain": [
       "    flightnumber flightdate flightpostfix flightstatus fltype  \\\n",
       "2            109    00:00.0                        NaN      J   \n",
       "3            127    00:00.0                        NaN      J   \n",
       "4            153    00:00.0                         DV      J   \n",
       "8            401    00:00.0                        NaN      J   \n",
       "16           871    00:00.0                        NaN      J   \n",
       "\n",
       "   departurestationcode arrivalstationcode  \n",
       "2                  ALA                FRU   \n",
       "3                  ALA                TAS   \n",
       "4                  ALA                SVO   \n",
       "8                  ALA                KBP   \n",
       "16                 ALA                SVO   "
      ]
     },
     "execution_count": 68,
     "metadata": {},
     "output_type": "execute_result"
    }
   ],
   "source": [
    "alaintflights.head()"
   ]
  },
  {
   "cell_type": "code",
   "execution_count": 69,
   "metadata": {},
   "outputs": [
    {
     "data": {
      "text/plain": [
       "departurestationcode  arrivalstationcode\n",
       "ALA                   SVO                   637\n",
       "                      FRU                   502\n",
       "                      TAS                   483\n",
       "                      IST                   398\n",
       "                      DXB                   377\n",
       "                      DEL                   370\n",
       "                      KBP                   360\n",
       "                      LED                   348\n",
       "                      PEK                   321\n",
       "                      DYU                   294\n",
       "                      TBS                   290\n",
       "                      ICN                   273\n",
       "                      URC                   234\n",
       "                      BKK                   229\n",
       "                      GYD                   163\n",
       "                      HKG                   156\n",
       "                      KUL                   156\n",
       "                      DME                   133\n",
       "                      AYT                   104\n",
       "                      SSH                    59\n",
       "                      BJV                    27\n",
       "                      MCT                    25\n",
       "                      OVB                     5\n",
       "                      MRV                     4\n",
       "                      HEL                     3\n",
       "                      XMN                     3\n",
       "                      ANC                     1\n",
       "                      ESB                     1\n",
       "                      JAI                     1\n",
       "                      KEF                     1\n",
       "                      OMS                     1\n",
       "Name: arrivalstationcode, dtype: int64"
      ]
     },
     "execution_count": 69,
     "metadata": {},
     "output_type": "execute_result"
    }
   ],
   "source": [
    "# count \n",
    "alaintflights.groupby('departurestationcode')['arrivalstationcode'].value_counts()"
   ]
  },
  {
   "cell_type": "code",
   "execution_count": 70,
   "metadata": {},
   "outputs": [],
   "source": [
    "# pivot destinations by ALA\n",
    "alaintpvt=alaintflights.pivot_table(index=['departurestationcode'], columns=['arrivalstationcode'],\n",
    "                               values='flightnumber', aggfunc='count')"
   ]
  },
  {
   "cell_type": "code",
   "execution_count": 71,
   "metadata": {},
   "outputs": [
    {
     "data": {
      "text/html": [
       "<div>\n",
       "<style scoped>\n",
       "    .dataframe tbody tr th:only-of-type {\n",
       "        vertical-align: middle;\n",
       "    }\n",
       "\n",
       "    .dataframe tbody tr th {\n",
       "        vertical-align: top;\n",
       "    }\n",
       "\n",
       "    .dataframe thead th {\n",
       "        text-align: right;\n",
       "    }\n",
       "</style>\n",
       "<table border=\"1\" class=\"dataframe\">\n",
       "  <thead>\n",
       "    <tr style=\"text-align: right;\">\n",
       "      <th>arrivalstationcode</th>\n",
       "      <th>ANC</th>\n",
       "      <th>AYT</th>\n",
       "      <th>BJV</th>\n",
       "      <th>BKK</th>\n",
       "      <th>DEL</th>\n",
       "      <th>DME</th>\n",
       "      <th>DXB</th>\n",
       "      <th>DYU</th>\n",
       "      <th>ESB</th>\n",
       "      <th>FRU</th>\n",
       "      <th>...</th>\n",
       "      <th>MRV</th>\n",
       "      <th>OMS</th>\n",
       "      <th>OVB</th>\n",
       "      <th>PEK</th>\n",
       "      <th>SSH</th>\n",
       "      <th>SVO</th>\n",
       "      <th>TAS</th>\n",
       "      <th>TBS</th>\n",
       "      <th>URC</th>\n",
       "      <th>XMN</th>\n",
       "    </tr>\n",
       "    <tr>\n",
       "      <th>departurestationcode</th>\n",
       "      <th></th>\n",
       "      <th></th>\n",
       "      <th></th>\n",
       "      <th></th>\n",
       "      <th></th>\n",
       "      <th></th>\n",
       "      <th></th>\n",
       "      <th></th>\n",
       "      <th></th>\n",
       "      <th></th>\n",
       "      <th></th>\n",
       "      <th></th>\n",
       "      <th></th>\n",
       "      <th></th>\n",
       "      <th></th>\n",
       "      <th></th>\n",
       "      <th></th>\n",
       "      <th></th>\n",
       "      <th></th>\n",
       "      <th></th>\n",
       "      <th></th>\n",
       "    </tr>\n",
       "  </thead>\n",
       "  <tbody>\n",
       "    <tr>\n",
       "      <th>ALA</th>\n",
       "      <td>1</td>\n",
       "      <td>104</td>\n",
       "      <td>27</td>\n",
       "      <td>229</td>\n",
       "      <td>370</td>\n",
       "      <td>133</td>\n",
       "      <td>377</td>\n",
       "      <td>294</td>\n",
       "      <td>1</td>\n",
       "      <td>502</td>\n",
       "      <td>...</td>\n",
       "      <td>4</td>\n",
       "      <td>1</td>\n",
       "      <td>5</td>\n",
       "      <td>321</td>\n",
       "      <td>59</td>\n",
       "      <td>637</td>\n",
       "      <td>483</td>\n",
       "      <td>290</td>\n",
       "      <td>234</td>\n",
       "      <td>3</td>\n",
       "    </tr>\n",
       "  </tbody>\n",
       "</table>\n",
       "<p>1 rows × 31 columns</p>\n",
       "</div>"
      ],
      "text/plain": [
       "arrivalstationcode    ANC   AYT   BJV   BKK   DEL   DME   DXB   DYU   ESB   \\\n",
       "departurestationcode                                                         \n",
       "ALA                      1   104    27   229   370   133   377   294     1   \n",
       "\n",
       "arrivalstationcode    FRU   ...  MRV   OMS   OVB   PEK   SSH   SVO   TAS   \\\n",
       "departurestationcode        ...                                             \n",
       "ALA                    502  ...     4     1     5   321    59   637   483   \n",
       "\n",
       "arrivalstationcode    TBS   URC   XMN   \n",
       "departurestationcode                    \n",
       "ALA                    290   234     3  \n",
       "\n",
       "[1 rows x 31 columns]"
      ]
     },
     "execution_count": 71,
     "metadata": {},
     "output_type": "execute_result"
    }
   ],
   "source": [
    "alaintpvt.head()"
   ]
  },
  {
   "cell_type": "code",
   "execution_count": 72,
   "metadata": {},
   "outputs": [],
   "source": [
    "#all international flights from Nursultan (TSE, but from 08 of June it is NQZ)\n",
    "tseintflights=intflights[intflights['departurestationcode'].str.strip()=='TSE']"
   ]
  },
  {
   "cell_type": "code",
   "execution_count": 73,
   "metadata": {},
   "outputs": [
    {
     "data": {
      "text/plain": [
       "departurestationcode  arrivalstationcode\n",
       "TSE                   SVO                   500\n",
       "                      FRA                   365\n",
       "                      OVB                   359\n",
       "                      SVX                   357\n",
       "                      OMS                   302\n",
       "                      TAS                   288\n",
       "                      LED                   279\n",
       "                      IST                   273\n",
       "                      DXB                   255\n",
       "                      LHR                   251\n",
       "                      KBP                   227\n",
       "                      URC                   227\n",
       "                      PEK                   186\n",
       "                      TBS                   184\n",
       "                      FRU                   172\n",
       "                      GYD                   162\n",
       "                      CDG                   121\n",
       "                      KZN                   112\n",
       "                      DME                   104\n",
       "                      ICN                   104\n",
       "                      AYT                    59\n",
       "                      SSH                    59\n",
       "                      DEL                    28\n",
       "                      ZIA                    19\n",
       "                      BKK                    12\n",
       "                      BRU                     2\n",
       "                      BTS                     1\n",
       "                      ESB                     1\n",
       "                      KTT                     1\n",
       "Name: arrivalstationcode, dtype: int64"
      ]
     },
     "execution_count": 73,
     "metadata": {},
     "output_type": "execute_result"
    }
   ],
   "source": [
    "tseintflights.groupby('departurestationcode')['arrivalstationcode'].value_counts()"
   ]
  },
  {
   "cell_type": "code",
   "execution_count": 74,
   "metadata": {},
   "outputs": [
    {
     "data": {
      "text/plain": [
       "array(['ALA ', 'GUW ', 'TSE ', 'URA ', 'SCO ', 'CIT '], dtype=object)"
      ]
     },
     "execution_count": 74,
     "metadata": {},
     "output_type": "execute_result"
    }
   ],
   "source": [
    "# all domestic airports which has international routes\n",
    "intflights.departurestationcode.unique()"
   ]
  },
  {
   "cell_type": "code",
   "execution_count": 76,
   "metadata": {},
   "outputs": [
    {
     "data": {
      "text/html": [
       "<div>\n",
       "<style scoped>\n",
       "    .dataframe tbody tr th:only-of-type {\n",
       "        vertical-align: middle;\n",
       "    }\n",
       "\n",
       "    .dataframe tbody tr th {\n",
       "        vertical-align: top;\n",
       "    }\n",
       "\n",
       "    .dataframe thead th {\n",
       "        text-align: right;\n",
       "    }\n",
       "</style>\n",
       "<table border=\"1\" class=\"dataframe\">\n",
       "  <thead>\n",
       "    <tr style=\"text-align: right;\">\n",
       "      <th></th>\n",
       "      <th>flightnumber</th>\n",
       "      <th>flightdate</th>\n",
       "      <th>flightpostfix</th>\n",
       "      <th>flightstatus</th>\n",
       "      <th>fltype</th>\n",
       "      <th>departurestationcode</th>\n",
       "      <th>arrivalstationcode</th>\n",
       "    </tr>\n",
       "  </thead>\n",
       "  <tbody>\n",
       "    <tr>\n",
       "      <th>5827</th>\n",
       "      <td>895</td>\n",
       "      <td>00:00.0</td>\n",
       "      <td>D</td>\n",
       "      <td>NaN</td>\n",
       "      <td>J</td>\n",
       "      <td>CIT</td>\n",
       "      <td>DXB</td>\n",
       "    </tr>\n",
       "    <tr>\n",
       "      <th>46813</th>\n",
       "      <td>151</td>\n",
       "      <td>00:00.0</td>\n",
       "      <td>D</td>\n",
       "      <td>NaN</td>\n",
       "      <td>J</td>\n",
       "      <td>CIT</td>\n",
       "      <td>FRU</td>\n",
       "    </tr>\n",
       "  </tbody>\n",
       "</table>\n",
       "</div>"
      ],
      "text/plain": [
       "       flightnumber flightdate flightpostfix flightstatus fltype  \\\n",
       "5827            895    00:00.0             D          NaN      J   \n",
       "46813           151    00:00.0             D          NaN      J   \n",
       "\n",
       "      departurestationcode arrivalstationcode  \n",
       "5827                  CIT                DXB   \n",
       "46813                 CIT                FRU   "
      ]
     },
     "execution_count": 76,
     "metadata": {},
     "output_type": "execute_result"
    }
   ],
   "source": [
    "# all international flights from Shymkent\n",
    "intflights[intflights['departurestationcode'].str.strip()=='CIT']"
   ]
  },
  {
   "cell_type": "code",
   "execution_count": 77,
   "metadata": {},
   "outputs": [
    {
     "data": {
      "text/plain": [
       "ALA     5959\n",
       "Name: departurestationcode, dtype: int64"
      ]
     },
     "execution_count": 77,
     "metadata": {},
     "output_type": "execute_result"
    }
   ],
   "source": [
    "alaintflights.departurestationcode.value_counts()"
   ]
  },
  {
   "cell_type": "code",
   "execution_count": 78,
   "metadata": {},
   "outputs": [
    {
     "data": {
      "text/plain": [
       "SVO     637\n",
       "FRU     502\n",
       "TAS     483\n",
       "IST     398\n",
       "DXB     377\n",
       "DEL     370\n",
       "KBP     360\n",
       "LED     348\n",
       "PEK     321\n",
       "DYU     294\n",
       "TBS     290\n",
       "ICN     273\n",
       "URC     234\n",
       "BKK     229\n",
       "GYD     163\n",
       "HKG     156\n",
       "KUL     156\n",
       "DME     133\n",
       "AYT     104\n",
       "SSH      59\n",
       "BJV      27\n",
       "MCT      25\n",
       "OVB       5\n",
       "MRV       4\n",
       "XMN       3\n",
       "HEL       3\n",
       "JAI       1\n",
       "ANC       1\n",
       "KEF       1\n",
       "OMS       1\n",
       "ESB       1\n",
       "Name: arrivalstationcode, dtype: int64"
      ]
     },
     "execution_count": 78,
     "metadata": {},
     "output_type": "execute_result"
    }
   ],
   "source": [
    "alaintflights.arrivalstationcode.value_counts()"
   ]
  },
  {
   "cell_type": "code",
   "execution_count": 79,
   "metadata": {},
   "outputs": [],
   "source": [
    "fromala=intflights.arrivalstationcode.value_counts()"
   ]
  },
  {
   "cell_type": "code",
   "execution_count": 81,
   "metadata": {},
   "outputs": [
    {
     "name": "stderr",
     "output_type": "stream",
     "text": [
      "UsageError: Line magic function `%` not found.\n"
     ]
    }
   ],
   "source": [
    "import matplotlib.pyplot as plt\n",
    "% matplotlib inline \n",
    "plt.style.use('ggplot')"
   ]
  },
  {
   "cell_type": "code",
   "execution_count": 82,
   "metadata": {},
   "outputs": [
    {
     "data": {
      "text/plain": [
       "Text(0, 0.5, 'Number of flights')"
      ]
     },
     "execution_count": 82,
     "metadata": {},
     "output_type": "execute_result"
    },
    {
     "data": {
      "image/png": "[encoded data removed]",
      "text/plain": [
       "<Figure size 864x504 with 1 Axes>"
      ]
     },
     "metadata": {
      "needs_background": "light"
     },
     "output_type": "display_data"
    }
   ],
   "source": [
    "fromala.plot(kind='bar', figsize=(12,7), color ='blue', alpha=0.5)\n",
    "plt.title('Flights of Air Astana in 2019 from ALA', fontsize=20)\n",
    "plt.xlabel('Destinations',fontsize=16)\n",
    "plt.ylabel('Number of flights',fontsize=16)"
   ]
  },
  {
   "cell_type": "code",
   "execution_count": 83,
   "metadata": {},
   "outputs": [
    {
     "data": {
      "text/plain": [
       "SVO     1137\n",
       "IST      778\n",
       "TAS      771\n",
       "FRU      676\n",
       "DXB      633\n",
       "Name: arrivalstationcode, dtype: int64"
      ]
     },
     "execution_count": 83,
     "metadata": {},
     "output_type": "execute_result"
    }
   ],
   "source": [
    "fromala.head()"
   ]
  },
  {
   "cell_type": "code",
   "execution_count": 108,
   "metadata": {},
   "outputs": [
    {
     "data": {
      "text/plain": [
       "Text(0, 0.5, 'Number of flights')"
      ]
     },
     "execution_count": 108,
     "metadata": {},
     "output_type": "execute_result"
    },
    {
     "data": {
      "image/png": "[encoded data removed]",
      "text/plain": [
       "<Figure size 864x504 with 1 Axes>"
      ]
     },
     "metadata": {
      "needs_background": "light"
     },
     "output_type": "display_data"
    }
   ],
   "source": [
    "fromala.head(3).plot(kind='bar', figsize=(12,7), color ='red', alpha=0.5)\n",
    "plt.title('Top 3 Cities which most visited people from Almaty in 2019', fontsize=20)\n",
    "plt.xlabel('Destinations',fontsize=16)\n",
    "plt.ylabel('Number of flights',fontsize=16)"
   ]
  },
  {
   "cell_type": "code",
   "execution_count": null,
   "metadata": {},
   "outputs": [],
   "source": [
    "#thank you for your attention!"
   ]
  }
 ],
 "metadata": {
  "kernelspec": {
   "display_name": "Python 3",
   "language": "python",
   "name": "python3"
  },
  "language_info": {
   "codemirror_mode": {
    "name": "ipython",
    "version": 3
   },
   "file_extension": ".py",
   "mimetype": "text/x-python",
   "name": "python",
   "nbconvert_exporter": "python",
   "pygments_lexer": "ipython3",
   "version": "3.7.6"
  }
 },
 "nbformat": 4,
 "nbformat_minor": 2
}
